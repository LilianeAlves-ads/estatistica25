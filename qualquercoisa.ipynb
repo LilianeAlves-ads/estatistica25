{
 "cells": [
  {
   "cell_type": "markdown",
   "id": "f8a23db4",
   "metadata": {},
   "source": [
    "# meu querido notebook "
   ]
  },
  {
   "cell_type": "markdown",
   "id": "4b89e34e",
   "metadata": {},
   "source": [
    "# Estou testando esse note, mas não devo usar"
   ]
  },
  {
   "cell_type": "code",
   "execution_count": 1,
   "id": "95e70673",
   "metadata": {},
   "outputs": [
    {
     "name": "stdout",
     "output_type": "stream",
     "text": [
      "print hello Recife!\n"
     ]
    }
   ],
   "source": [
    "print (\"print hello Recife!\")"
   ]
  },
  {
   "cell_type": "markdown",
   "id": "eb4eee3a",
   "metadata": {},
   "source": [
    "\n",
    "## Meu primeiro teste em python"
   ]
  }
 ],
 "metadata": {
  "kernelspec": {
   "display_name": "Python 3",
   "language": "python",
   "name": "python3"
  },
  "language_info": {
   "codemirror_mode": {
    "name": "ipython",
    "version": 3
   },
   "file_extension": ".py",
   "mimetype": "text/x-python",
   "name": "python",
   "nbconvert_exporter": "python",
   "pygments_lexer": "ipython3",
   "version": "3.12.1"
  }
 },
 "nbformat": 4,
 "nbformat_minor": 5
}
